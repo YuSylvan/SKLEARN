{
  "cells": [
    {
      "cell_type": "markdown",
      "id": "5549ef61",
      "metadata": {},
      "source": [
        "## Sklearn dataset\n",
        "https://scikit-learn.org/stable/modules/classes.html#module-sklearn.datasets"
      ]
    },
    {
      "cell_type": "code",
      "execution_count": 1,
      "id": "a2149122",
      "metadata": {},
      "outputs": [],
      "source": [
        "from __future__ import print_function\n",
        "from sklearn import datasets\n",
        "from sklearn.linear_model import LinearRegression\n",
        "import matplotlib.pyplot as plt"
      ]
    },
    {
      "cell_type": "code",
      "execution_count": 2,
      "id": "cd354700",
      "metadata": {},
      "outputs": [
        {
          "name": "stderr",
          "output_type": "stream",
          "text": [
            "d:\\app\\ANACONDA\\envs\\OD\\lib\\site-packages\\sklearn\\utils\\deprecation.py:87: FutureWarning: Function load_boston is deprecated; `load_boston` is deprecated in 1.0 and will be removed in 1.2.\n",
            "\n",
            "    The Boston housing prices dataset has an ethical problem. You can refer to\n",
            "    the documentation of this function for further details.\n",
            "\n",
            "    The scikit-learn maintainers therefore strongly discourage the use of this\n",
            "    dataset unless the purpose of the code is to study and educate about\n",
            "    ethical issues in data science and machine learning.\n",
            "\n",
            "    In this special case, you can fetch the dataset from the original\n",
            "    source::\n",
            "\n",
            "        import pandas as pd\n",
            "        import numpy as np\n",
            "\n",
            "\n",
            "        data_url = \"http://lib.stat.cmu.edu/datasets/boston\"\n",
            "        raw_df = pd.read_csv(data_url, sep=\"\\s+\", skiprows=22, header=None)\n",
            "        data = np.hstack([raw_df.values[::2, :], raw_df.values[1::2, :2]])\n",
            "        target = raw_df.values[1::2, 2]\n",
            "\n",
            "    Alternative datasets include the California housing dataset (i.e.\n",
            "    :func:`~sklearn.datasets.fetch_california_housing`) and the Ames housing\n",
            "    dataset. You can load the datasets as follows::\n",
            "\n",
            "        from sklearn.datasets import fetch_california_housing\n",
            "        housing = fetch_california_housing()\n",
            "\n",
            "    for the California housing dataset and::\n",
            "\n",
            "        from sklearn.datasets import fetch_openml\n",
            "        housing = fetch_openml(name=\"house_prices\", as_frame=True)\n",
            "\n",
            "    for the Ames housing dataset.\n",
            "    \n",
            "  warnings.warn(msg, category=FutureWarning)\n"
          ]
        }
      ],
      "source": [
        "loaded_data = datasets.load_boston()\n",
        "data_X = loaded_data.data\n",
        "data_y = loaded_data.target"
      ]
    },
    {
      "cell_type": "code",
      "execution_count": 3,
      "id": "8a92f8fe",
      "metadata": {},
      "outputs": [
        {
          "data": {
            "text/plain": [
              "LinearRegression()"
            ]
          },
          "execution_count": 3,
          "metadata": {},
          "output_type": "execute_result"
        }
      ],
      "source": [
        "model = LinearRegression()\n",
        "model.fit(data_X, data_y)\n"
      ]
    },
    {
      "cell_type": "code",
      "execution_count": 4,
      "id": "6fd88f54",
      "metadata": {},
      "outputs": [
        {
          "name": "stdout",
          "output_type": "stream",
          "text": [
            "[30.00384338 25.02556238 30.56759672 28.60703649]\n",
            "[24.  21.6 34.7 33.4]\n"
          ]
        }
      ],
      "source": [
        "print(model.predict(data_X[:4, :]))\n",
        "print(data_y[:4])"
      ]
    },
    {
      "cell_type": "code",
      "execution_count": 11,
      "id": "264b0965",
      "metadata": {},
      "outputs": [
        {
          "data": {
            "image/png": "[encoded data removed]",
            "text/plain": [
              "<Figure size 432x288 with 1 Axes>"
            ]
          },
          "metadata": {
            "needs_background": "light"
          },
          "output_type": "display_data"
        }
      ],
      "source": [
        "X, y = datasets.make_regression(n_samples=100, n_features=1, n_targets=1, noise=10)\n",
        "plt.scatter(X, y)\n",
        "plt.show()\n"
      ]
    }
  ],
  "metadata": {
    "accelerator": "GPU",
    "colab": {
      "collapsed_sections": [],
      "provenance": []
    },
    "gpuClass": "standard",
    "kernelspec": {
      "display_name": "Python 3.7.12 ('OD')",
      "language": "python",
      "name": "python3"
    },
    "language_info": {
      "codemirror_mode": {
        "name": "ipython",
        "version": 3
      },
      "file_extension": ".py",
      "mimetype": "text/x-python",
      "name": "python",
      "nbconvert_exporter": "python",
      "pygments_lexer": "ipython3",
      "version": "3.7.12"
    },
    "vscode": {
      "interpreter": {
        "hash": "77c85ecd8caa74be40ec3fd08380d355bf1a1680daa8986b518221147a52d1b1"
      }
    }
  },
  "nbformat": 4,
  "nbformat_minor": 5
}
