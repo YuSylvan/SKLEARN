{
  "cells": [
    {
      "cell_type": "code",
      "execution_count": 1,
      "metadata": {},
      "outputs": [],
      "source": [
        "from sklearn import preprocessing #标准化数据模块\n",
        "import numpy as np"
      ]
    },
    {
      "cell_type": "code",
      "execution_count": 2,
      "id": "9ac570dc",
      "metadata": {},
      "outputs": [
        {
          "name": "stdout",
          "output_type": "stream",
          "text": [
            "[[ 0.         -0.85170713 -0.55138018]\n",
            " [-1.22474487 -0.55187146 -0.852133  ]\n",
            " [ 1.22474487  1.40357859  1.40351318]]\n"
          ]
        }
      ],
      "source": [
        "a = np.array([[10, 2.7, 3.6],\n",
        "              [-100, 5, -2],\n",
        "              [120, 20, 40]], dtype=np.float64)\n",
        "print(preprocessing.scale(a))"
      ]
    },
    {
      "cell_type": "code",
      "execution_count": 8,
      "id": "a52e89df",
      "metadata": {},
      "outputs": [],
      "source": [
        "# 将资料分割成train与test的模块\n",
        "from sklearn.model_selection import train_test_split\n",
        "\n",
        "# 生成适合做classification资料的模块\n",
        "from sklearn.datasets import make_classification \n",
        "\n",
        "# Support Vector Machine中的Support Vector Classifier\n",
        "from sklearn.svm import SVC \n",
        "\n",
        "# 可视化数据的模块\n",
        "import matplotlib.pyplot as plt "
      ]
    },
    {
      "cell_type": "code",
      "execution_count": 23,
      "id": "745ca7a9",
      "metadata": {},
      "outputs": [
        {
          "data": {
            "image/png": "[encoded data removed]",
            "text/plain": [
              "<Figure size 432x288 with 1 Axes>"
            ]
          },
          "metadata": {
            "needs_background": "light"
          },
          "output_type": "display_data"
        }
      ],
      "source": [
        "X, y = make_classification(\n",
        "    n_samples=800, n_features=2,\n",
        "    n_redundant=0, n_informative=2, \n",
        "    random_state=22, n_clusters_per_class=1, \n",
        "    scale=100)\n",
        "\n",
        "#可视化数据\n",
        "plt.scatter(X[:, 0], X[:, 1], c=y)\n",
        "plt.show()"
      ]
    },
    {
      "cell_type": "code",
      "execution_count": 24,
      "id": "694b7a1b",
      "metadata": {},
      "outputs": [
        {
          "name": "stdout",
          "output_type": "stream",
          "text": [
            "0.9708333333333333\n"
          ]
        }
      ],
      "source": [
        "X_train, X_test, y_train, y_test = train_test_split(X, y, test_size=0.3)\n",
        "clf = SVC()\n",
        "clf.fit(X_train, y_train)\n",
        "print(clf.score(X_test, y_test))"
      ]
    },
    {
      "cell_type": "code",
      "execution_count": 25,
      "id": "26968e01",
      "metadata": {},
      "outputs": [
        {
          "name": "stdout",
          "output_type": "stream",
          "text": [
            "0.9666666666666667\n"
          ]
        }
      ],
      "source": [
        "X = preprocessing.scale(X)\n",
        "X_train, X_test, y_train, y_test = train_test_split(X, y, test_size=0.3)\n",
        "clf = SVC()\n",
        "clf.fit(X_train, y_train)\n",
        "print(clf.score(X_test, y_test))"
      ]
    }
  ],
  "metadata": {
    "accelerator": "GPU",
    "colab": {
      "collapsed_sections": [],
      "provenance": []
    },
    "gpuClass": "standard",
    "kernelspec": {
      "display_name": "Python 3.7.12 ('OD')",
      "language": "python",
      "name": "python3"
    },
    "language_info": {
      "codemirror_mode": {
        "name": "ipython",
        "version": 3
      },
      "file_extension": ".py",
      "mimetype": "text/x-python",
      "name": "python",
      "nbconvert_exporter": "python",
      "pygments_lexer": "ipython3",
      "version": "3.7.12"
    },
    "vscode": {
      "interpreter": {
        "hash": "77c85ecd8caa74be40ec3fd08380d355bf1a1680daa8986b518221147a52d1b1"
      }
    }
  },
  "nbformat": 4,
  "nbformat_minor": 5
}
