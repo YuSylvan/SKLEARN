{
  "cells": [
    {
      "cell_type": "code",
      "execution_count": 1,
      "id": "27ee342d",
      "metadata": {},
      "outputs": [],
      "source": [
        "from sklearn import datasets\n",
        "from sklearn.model_selection import train_test_split\n",
        "from sklearn.neighbors import KNeighborsClassifier"
      ]
    },
    {
      "cell_type": "code",
      "execution_count": 2,
      "id": "cd354700",
      "metadata": {},
      "outputs": [],
      "source": [
        "iris = datasets.load_iris()\n",
        "iris_X = iris.data\n",
        "iris_y = iris.target"
      ]
    },
    {
      "cell_type": "code",
      "execution_count": 3,
      "id": "8a92f8fe",
      "metadata": {},
      "outputs": [],
      "source": [
        "X_train, X_test, y_train, y_test = train_test_split(\n",
        "    iris_X, iris_y, test_size=0.3)"
      ]
    },
    {
      "cell_type": "markdown",
      "id": "816930b0",
      "metadata": {},
      "source": [
        "## create model and train"
      ]
    },
    {
      "cell_type": "code",
      "execution_count": 4,
      "id": "6fd88f54",
      "metadata": {},
      "outputs": [
        {
          "name": "stdout",
          "output_type": "stream",
          "text": [
            "[2 0 0 0 1 1 1 0 2 2 0 0 0 2 1 1 2 2 2 1 2 1 2 2 0 0 1 0 0 1 2 2 1 1 1 0 2\n",
            " 2 1 1 1 2 2 0 1]\n",
            "[2 0 0 0 1 1 1 0 2 2 0 0 0 2 1 1 2 2 2 2 2 1 2 2 0 0 1 0 0 1 2 2 1 1 1 0 2\n",
            " 2 1 1 1 2 2 0 1]\n"
          ]
        }
      ],
      "source": [
        "knn = KNeighborsClassifier()\n",
        "knn.fit(X_train, y_train)\n",
        "print(knn.predict(X_test))\n",
        "print(y_test)"
      ]
    }
  ],
  "metadata": {
    "accelerator": "GPU",
    "colab": {
      "collapsed_sections": [],
      "provenance": []
    },
    "gpuClass": "standard",
    "kernelspec": {
      "display_name": "Python 3.7.12 ('OD')",
      "language": "python",
      "name": "python3"
    },
    "language_info": {
      "codemirror_mode": {
        "name": "ipython",
        "version": 3
      },
      "file_extension": ".py",
      "mimetype": "text/x-python",
      "name": "python",
      "nbconvert_exporter": "python",
      "pygments_lexer": "ipython3",
      "version": "3.7.12"
    },
    "vscode": {
      "interpreter": {
        "hash": "77c85ecd8caa74be40ec3fd08380d355bf1a1680daa8986b518221147a52d1b1"
      }
    }
  },
  "nbformat": 4,
  "nbformat_minor": 5
}
